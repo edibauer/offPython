{
 "cells": [
  {
   "cell_type": "code",
   "execution_count": 1,
   "id": "3068a37d",
   "metadata": {},
   "outputs": [
    {
     "name": "stdout",
     "output_type": "stream",
     "text": [
      "i dont make mistakes\n"
     ]
    }
   ],
   "source": [
    "print(\"i dont make mistakes\")"
   ]
  },
  {
   "cell_type": "code",
   "execution_count": 2,
   "id": "733ecf9d",
   "metadata": {},
   "outputs": [],
   "source": [
    "attacks = [\"Phishing\", \"DDoS\", \"SQL Injectiom\", \"Man IN THe MIddle\", \"Cross-Site Scripting\"]"
   ]
  },
  {
   "cell_type": "code",
   "execution_count": 3,
   "id": "0f43e07e",
   "metadata": {},
   "outputs": [
    {
     "data": {
      "text/plain": [
       "['PHISHING',\n",
       " 'DDOS',\n",
       " 'SQL INJECTIOM',\n",
       " 'MAN IN THE MIDDLE',\n",
       " 'CROSS-SITE SCRIPTING']"
      ]
     },
     "execution_count": 3,
     "metadata": {},
     "output_type": "execute_result"
    }
   ],
   "source": [
    "attacks_uppercase = [attack.upper() for attack in attacks]\n",
    "attacks_uppercase"
   ]
  },
  {
   "cell_type": "code",
   "execution_count": 6,
   "id": "5615ddd6",
   "metadata": {},
   "outputs": [
    {
     "name": "stdout",
     "output_type": "stream",
     "text": [
      "Savitar tiene 27 anios\n",
      "Hackermate tiene 45 anios\n",
      "Lobotec tiene 13 anios\n",
      "Hackavis tiene 21 anios\n"
     ]
    }
   ],
   "source": [
    "names = [\"Savitar\", \"Hackermate\", \"Lobotec\", \"Hackavis\"]\n",
    "ages = [27, 45, 13, 21]\n",
    "\n",
    "for name, edad in zip(names,ages):\n",
    "    print(\"%s tiene %d anios\" % (name, edad))"
   ]
  },
  {
   "cell_type": "markdown",
   "id": "a60807b6",
   "metadata": {},
   "source": [
    "### delete"
   ]
  },
  {
   "cell_type": "code",
   "execution_count": 8,
   "id": "7c7cd9ed",
   "metadata": {},
   "outputs": [],
   "source": [
    "# del names[2]\n",
    "# names.remove(\"Lobotec\")\n",
    "# names.pop()\n",
    "# names.pop(1)\n",
    "# deleted_user = names.pop(1)\n",
    "\n"
   ]
  },
  {
   "cell_type": "markdown",
   "id": "bf624167",
   "metadata": {},
   "source": [
    "### insert"
   ]
  },
  {
   "cell_type": "code",
   "execution_count": 9,
   "id": "dc2db3fa",
   "metadata": {},
   "outputs": [],
   "source": [
    "names.insert(2, \"Chema Alonso\")"
   ]
  },
  {
   "cell_type": "code",
   "execution_count": 10,
   "id": "78363818",
   "metadata": {},
   "outputs": [
    {
     "data": {
      "text/plain": [
       "['Savitar', 'Hackermate', 'Chema Alonso', 'Lobotec', 'Hackavis']"
      ]
     },
     "execution_count": 10,
     "metadata": {},
     "output_type": "execute_result"
    }
   ],
   "source": [
    "names"
   ]
  },
  {
   "cell_type": "code",
   "execution_count": 11,
   "id": "e337afd1",
   "metadata": {},
   "outputs": [],
   "source": [
    "more_names = [\"Pepito\", \"Manolito\"]\n",
    "names.extend(more_names)"
   ]
  },
  {
   "cell_type": "code",
   "execution_count": 12,
   "id": "37224e8b",
   "metadata": {},
   "outputs": [
    {
     "data": {
      "text/plain": [
       "['Savitar',\n",
       " 'Hackermate',\n",
       " 'Chema Alonso',\n",
       " 'Lobotec',\n",
       " 'Hackavis',\n",
       " 'Pepito',\n",
       " 'Manolito']"
      ]
     },
     "execution_count": 12,
     "metadata": {},
     "output_type": "execute_result"
    }
   ],
   "source": [
    "names"
   ]
  }
 ],
 "metadata": {
  "kernelspec": {
   "display_name": "Python 3",
   "language": "python",
   "name": "python3"
  },
  "language_info": {
   "codemirror_mode": {
    "name": "ipython",
    "version": 3
   },
   "file_extension": ".py",
   "mimetype": "text/x-python",
   "name": "python",
   "nbconvert_exporter": "python",
   "pygments_lexer": "ipython3",
   "version": "3.11.2"
  }
 },
 "nbformat": 4,
 "nbformat_minor": 5
}
