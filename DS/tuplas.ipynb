{
 "cells": [
  {
   "cell_type": "code",
   "execution_count": 1,
   "id": "df0e393d",
   "metadata": {},
   "outputs": [
    {
     "name": "stdout",
     "output_type": "stream",
     "text": [
      "i dont makem mistakes\n"
     ]
    }
   ],
   "source": [
    "print(\"i dont makem mistakes\")"
   ]
  },
  {
   "cell_type": "code",
   "execution_count": 3,
   "id": "8e105a06",
   "metadata": {},
   "outputs": [
    {
     "data": {
      "text/plain": [
       "(1, 2, 3, 4, 5)"
      ]
     },
     "execution_count": 3,
     "metadata": {},
     "output_type": "execute_result"
    }
   ],
   "source": [
    "example = (1,2,3,4,5)\n",
    "example"
   ]
  },
  {
   "cell_type": "code",
   "execution_count": 5,
   "id": "028fd97a",
   "metadata": {},
   "outputs": [
    {
     "name": "stdout",
     "output_type": "stream",
     "text": [
      "1\n"
     ]
    }
   ],
   "source": [
    "print(example[0])"
   ]
  },
  {
   "cell_type": "code",
   "execution_count": 9,
   "id": "02b8955f",
   "metadata": {},
   "outputs": [
    {
     "name": "stdout",
     "output_type": "stream",
     "text": [
      "(1, 2, 3)\n"
     ]
    }
   ],
   "source": [
    "print(example[:3])"
   ]
  },
  {
   "cell_type": "code",
   "execution_count": 10,
   "id": "71a01d30",
   "metadata": {},
   "outputs": [
    {
     "name": "stdout",
     "output_type": "stream",
     "text": [
      "(3, 4, 5)\n"
     ]
    }
   ],
   "source": [
    "print(example[2:])"
   ]
  },
  {
   "cell_type": "code",
   "execution_count": null,
   "id": "5a2bba52",
   "metadata": {},
   "outputs": [],
   "source": [
    "# example[0] = 10  # This will raise a TypeError because tuples are immutable"
   ]
  },
  {
   "cell_type": "code",
   "execution_count": 11,
   "id": "3d651cbe",
   "metadata": {},
   "outputs": [
    {
     "data": {
      "text/plain": [
       "(1, 'test', [1, 2, 3], True, {'day': 'monday'})"
      ]
     },
     "execution_count": 11,
     "metadata": {},
     "output_type": "execute_result"
    }
   ],
   "source": [
    "example2 = (1,\"test\", [1,2,3],True, {\"day\": \"monday\"})\n",
    "example2"
   ]
  },
  {
   "cell_type": "code",
   "execution_count": 12,
   "id": "c547bf3d",
   "metadata": {},
   "outputs": [
    {
     "data": {
      "text/plain": [
       "1"
      ]
     },
     "execution_count": 12,
     "metadata": {},
     "output_type": "execute_result"
    }
   ],
   "source": [
    "my_tuple = (1, 2, 3)\n",
    "a, b, c = my_tuple  # Unpacking the tuple into variables\n",
    "a"
   ]
  },
  {
   "cell_type": "code",
   "execution_count": null,
   "id": "8bc9aa53",
   "metadata": {},
   "outputs": [
    {
     "data": {
      "text/plain": [
       "(2, 4, 6, 8)"
      ]
     },
     "execution_count": 13,
     "metadata": {},
     "output_type": "execute_result"
    }
   ],
   "source": [
    "sec_tuple = (1,2,3,4,5,6,7,8,9)\n",
    "odd = tuple(i for i in sec_tuple if i%2 == 0) # tuple() only for iterable process\n",
    "odd"
   ]
  },
  {
   "cell_type": "code",
   "execution_count": 14,
   "id": "f7b08035",
   "metadata": {},
   "outputs": [
    {
     "data": {
      "text/plain": [
       "3"
      ]
     },
     "execution_count": 14,
     "metadata": {},
     "output_type": "execute_result"
    }
   ],
   "source": [
    "main_tuple = (3)\n",
    "main_tuple"
   ]
  },
  {
   "cell_type": "code",
   "execution_count": 17,
   "id": "cde918dd",
   "metadata": {},
   "outputs": [
    {
     "data": {
      "text/plain": [
       "(1, 2, 3)"
      ]
     },
     "execution_count": 17,
     "metadata": {},
     "output_type": "execute_result"
    }
   ],
   "source": [
    "check = tuple([1,2,3])\n",
    "check"
   ]
  }
 ],
 "metadata": {
  "kernelspec": {
   "display_name": "Python 3",
   "language": "python",
   "name": "python3"
  },
  "language_info": {
   "codemirror_mode": {
    "name": "ipython",
    "version": 3
   },
   "file_extension": ".py",
   "mimetype": "text/x-python",
   "name": "python",
   "nbconvert_exporter": "python",
   "pygments_lexer": "ipython3",
   "version": "3.11.2"
  }
 },
 "nbformat": 4,
 "nbformat_minor": 5
}
