{
 "cells": [
  {
   "cell_type": "code",
   "execution_count": 1,
   "id": "c73b0fee",
   "metadata": {},
   "outputs": [
    {
     "name": "stdout",
     "output_type": "stream",
     "text": [
      "i dont makem mistakes\n"
     ]
    }
   ],
   "source": [
    "print(\"i dont makem mistakes\")"
   ]
  },
  {
   "cell_type": "code",
   "execution_count": 2,
   "id": "4141bf52",
   "metadata": {},
   "outputs": [
    {
     "data": {
      "text/plain": [
       "'Hello, my name is Sepiol and i am 30 years old'"
      ]
     },
     "execution_count": 2,
     "metadata": {},
     "output_type": "execute_result"
    }
   ],
   "source": [
    "class Persona:\n",
    "    def __init__(self, name, age): # Persona.__init__(obj, name, age)\n",
    "        self.name = name\n",
    "        self.age = age\n",
    "\n",
    "    def greet(self): # Persona.greet(obj)\n",
    "        return f\"Hello, my name is {self.name} and i am {self.age} years old\"\n",
    "\n",
    "sepiol = Persona(\"Sepiol\", 30)\n",
    "sepiol.greet()"
   ]
  },
  {
   "cell_type": "code",
   "execution_count": 5,
   "id": "2ae0e5c3",
   "metadata": {},
   "outputs": [
    {
     "data": {
      "text/plain": [
       "'This animal is a Pastor Inglés and its name is Rex'"
      ]
     },
     "execution_count": 5,
     "metadata": {},
     "output_type": "execute_result"
    }
   ],
   "source": [
    "class Animal:\n",
    "    def __init__(self, name, raza):\n",
    "        self.name = name\n",
    "        self.raza = raza\n",
    "\n",
    "    def description(self):\n",
    "        return f\"This animal is a {self.raza} and its name is {self.name}\"\n",
    "\n",
    "perro = Animal(\"Rex\", \"Pastor Inglés\")\n",
    "gato = Animal(\"Ramon\", \"mestizo\")\n",
    "\n",
    "perro.description()\n",
    "# gato.description()\n"
   ]
  },
  {
   "cell_type": "code",
   "execution_count": 20,
   "id": "01b9f86b",
   "metadata": {},
   "outputs": [],
   "source": [
    "class CuentaBancaria:\n",
    "    def __init__(self, cuenta, nombre, dinero=0):\n",
    "        self.cuenta = cuenta\n",
    "        self.nombre = nombre\n",
    "        self.dinero = dinero\n",
    "\n",
    "    def depositar(self, cantidad):\n",
    "        self.dinero += cantidad\n",
    "        return f\"[+] Se han depositado {cantidad} euros, su saldo es de {self.dinero}\"\n",
    "\n",
    "    def retirar(self, cantidad):\n",
    "        if cantidad > self.dinero:\n",
    "            return \"[-] Fondos insuficientes\"\n",
    "        self.dinero -= cantidad\n",
    "        return f\"[+] Se han retirado {cantidad} euros, su saldo es de {self.dinero}\"\n",
    "\n",
    "# manolo = CuentaBancaria(\"311369\", \"Manolo Vieira\", 900)\n",
    "# manolo.depositar(100)"
   ]
  },
  {
   "cell_type": "code",
   "execution_count": 22,
   "id": "53b1db19",
   "metadata": {},
   "outputs": [
    {
     "data": {
      "text/plain": [
       "900"
      ]
     },
     "execution_count": 22,
     "metadata": {},
     "output_type": "execute_result"
    }
   ],
   "source": [
    "manolo = CuentaBancaria(\"311369\", \"Manolo Vieira\", 900)\n",
    "manolo.dinero"
   ]
  },
  {
   "cell_type": "code",
   "execution_count": 23,
   "id": "571f42cb",
   "metadata": {},
   "outputs": [
    {
     "data": {
      "text/plain": [
       "'[+] Se han depositado 1000 euros, su saldo es de 1900'"
      ]
     },
     "execution_count": 23,
     "metadata": {},
     "output_type": "execute_result"
    }
   ],
   "source": [
    "manolo.depositar(1000)"
   ]
  },
  {
   "cell_type": "code",
   "execution_count": 24,
   "id": "b3bd8dcf",
   "metadata": {},
   "outputs": [
    {
     "data": {
      "text/plain": [
       "'Manolo Vieira'"
      ]
     },
     "execution_count": 24,
     "metadata": {},
     "output_type": "execute_result"
    }
   ],
   "source": [
    "manolo.nombre"
   ]
  },
  {
   "cell_type": "code",
   "execution_count": 25,
   "id": "0b322174",
   "metadata": {},
   "outputs": [
    {
     "data": {
      "text/plain": [
       "'[+] Se han depositado 300 euros, su saldo es de 2200'"
      ]
     },
     "execution_count": 25,
     "metadata": {},
     "output_type": "execute_result"
    }
   ],
   "source": [
    "manolo.depositar(300)"
   ]
  },
  {
   "cell_type": "code",
   "execution_count": 26,
   "id": "d36cb597",
   "metadata": {},
   "outputs": [
    {
     "data": {
      "text/plain": [
       "2200"
      ]
     },
     "execution_count": 26,
     "metadata": {},
     "output_type": "execute_result"
    }
   ],
   "source": [
    "manolo.dinero"
   ]
  },
  {
   "cell_type": "code",
   "execution_count": 28,
   "id": "d3c347a1",
   "metadata": {},
   "outputs": [
    {
     "data": {
      "text/plain": [
       "'[+] Se han retirado 1200 euros, su saldo es de 1000'"
      ]
     },
     "execution_count": 28,
     "metadata": {},
     "output_type": "execute_result"
    }
   ],
   "source": [
    "manolo.retirar(1200)"
   ]
  },
  {
   "cell_type": "markdown",
   "id": "0bd9aa9b",
   "metadata": {},
   "source": [
    "## part 2"
   ]
  },
  {
   "cell_type": "code",
   "execution_count": 2,
   "id": "ecea61f5",
   "metadata": {},
   "outputs": [],
   "source": [
    "class Rectangulo:\n",
    "    def __init__(self, ancho, alto):\n",
    "        self.ancho = ancho\n",
    "        self.alto = alto\n",
    "\n",
    "    def area(self):\n",
    "        return self.ancho * self.alto\n"
   ]
  },
  {
   "cell_type": "code",
   "execution_count": 4,
   "id": "c3fb94cf",
   "metadata": {},
   "outputs": [
    {
     "data": {
      "text/plain": [
       "18"
      ]
     },
     "execution_count": 4,
     "metadata": {},
     "output_type": "execute_result"
    }
   ],
   "source": [
    "rect1 = Rectangulo(3,6)\n",
    "rect1.area()"
   ]
  },
  {
   "cell_type": "code",
   "execution_count": 5,
   "id": "0e61a3ad",
   "metadata": {},
   "outputs": [],
   "source": [
    "# executing like property decorator\n",
    "class Rectangulo:\n",
    "    def __init__(self, ancho, alto):\n",
    "        self.ancho = ancho\n",
    "        self.alto = alto\n",
    "\n",
    "    @property\n",
    "    def area(self):\n",
    "        return self.ancho * self.alto"
   ]
  },
  {
   "cell_type": "code",
   "execution_count": 7,
   "id": "2661c305",
   "metadata": {},
   "outputs": [
    {
     "data": {
      "text/plain": [
       "54"
      ]
     },
     "execution_count": 7,
     "metadata": {},
     "output_type": "execute_result"
    }
   ],
   "source": [
    "rect2 = Rectangulo(6,9)\n",
    "rect2.area"
   ]
  },
  {
   "cell_type": "code",
   "execution_count": 11,
   "id": "9d3187b2",
   "metadata": {},
   "outputs": [],
   "source": [
    "# printing object\n",
    "class Rectangulo:\n",
    "    def __init__(self, ancho, alto):\n",
    "        self.ancho = ancho\n",
    "        self.alto = alto\n",
    "\n",
    "    @property\n",
    "    def area(self):\n",
    "        return self.ancho * self.alto\n",
    "\n",
    "    def __str__(self):\n",
    "        return f\"Rectangulo de {self.ancho} ancho y {self.alto} alto con area de {self.area}\""
   ]
  },
  {
   "cell_type": "code",
   "execution_count": 13,
   "id": "eadaea25",
   "metadata": {},
   "outputs": [
    {
     "name": "stdout",
     "output_type": "stream",
     "text": [
      "Rectangulo de 9 ancho y 3 alto con area de 27\n"
     ]
    }
   ],
   "source": [
    "rect3 = Rectangulo(9,3)\n",
    "print(rect3)"
   ]
  },
  {
   "cell_type": "markdown",
   "id": "5c73a871",
   "metadata": {},
   "source": [
    "### Static method"
   ]
  },
  {
   "cell_type": "code",
   "execution_count": 14,
   "id": "27093afe",
   "metadata": {},
   "outputs": [],
   "source": [
    "class Libro:\n",
    "    def __init__(self, titulo, autor, precio):\n",
    "        self.titulo = titulo\n",
    "        self.autor = autor\n",
    "        self.precio = precio\n",
    "\n",
    "    @staticmethod\n",
    "    def es_bestseller(total_ventas):\n",
    "        return total_ventas > 3000"
   ]
  },
  {
   "cell_type": "code",
   "execution_count": 17,
   "id": "08afde22",
   "metadata": {},
   "outputs": [
    {
     "data": {
      "text/plain": [
       "True"
      ]
     },
     "execution_count": 17,
     "metadata": {},
     "output_type": "execute_result"
    }
   ],
   "source": [
    "book1 = Libro(\"Como ser un lammer de verdad\", \"Edibauer\", 19.99)\n",
    "# book1.es_bestseller(5000)\n",
    "Libro.es_bestseller(5000)"
   ]
  },
  {
   "cell_type": "code",
   "execution_count": 2,
   "id": "68aa0b90",
   "metadata": {},
   "outputs": [],
   "source": [
    "class Libro:\n",
    "    # prop\n",
    "    IVA = 0.16\n",
    "\n",
    "    def __init__(self, titulo, autor, precio):\n",
    "        self.titulo = titulo\n",
    "        self.autor = autor\n",
    "        self.precio = precio\n",
    "\n",
    "    @staticmethod\n",
    "    def precio_iva(precio):\n",
    "        return precio + (precio * Libro.IVA)\n",
    "\n",
    "\n",
    "    "
   ]
  },
  {
   "cell_type": "code",
   "execution_count": 3,
   "id": "5944c9ba",
   "metadata": {},
   "outputs": [
    {
     "data": {
      "text/plain": [
       "116.0"
      ]
     },
     "execution_count": 3,
     "metadata": {},
     "output_type": "execute_result"
    }
   ],
   "source": [
    "Libro.precio_iva(100)"
   ]
  },
  {
   "cell_type": "markdown",
   "id": "b875cefe",
   "metadata": {},
   "source": [
    "### class method"
   ]
  },
  {
   "cell_type": "code",
   "execution_count": 4,
   "id": "26c0de8f",
   "metadata": {},
   "outputs": [],
   "source": [
    "class Libro:\n",
    "    # prop\n",
    "    IVA = 0.16\n",
    "\n",
    "    def __init__(self, titulo, autor, precio):\n",
    "        self.titulo = titulo\n",
    "        self.autor = autor\n",
    "        self.precio = precio\n",
    "\n",
    "    @classmethod\n",
    "    def precio_iva(cls, precio):\n",
    "        return precio + (precio * cls.IVA)"
   ]
  },
  {
   "cell_type": "code",
   "execution_count": 5,
   "id": "da0d7f21",
   "metadata": {},
   "outputs": [
    {
     "data": {
      "text/plain": [
       "116.0"
      ]
     },
     "execution_count": 5,
     "metadata": {},
     "output_type": "execute_result"
    }
   ],
   "source": [
    "Libro.precio_iva(100)"
   ]
  }
 ],
 "metadata": {
  "kernelspec": {
   "display_name": "Python 3",
   "language": "python",
   "name": "python3"
  },
  "language_info": {
   "codemirror_mode": {
    "name": "ipython",
    "version": 3
   },
   "file_extension": ".py",
   "mimetype": "text/x-python",
   "name": "python",
   "nbconvert_exporter": "python",
   "pygments_lexer": "ipython3",
   "version": "3.11.2"
  }
 },
 "nbformat": 4,
 "nbformat_minor": 5
}
