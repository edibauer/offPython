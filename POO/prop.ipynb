{
 "cells": [
  {
   "cell_type": "code",
   "execution_count": 1,
   "id": "fd0aab1a",
   "metadata": {},
   "outputs": [
    {
     "name": "stdout",
     "output_type": "stream",
     "text": [
      "im stronger, im smarter\n"
     ]
    }
   ],
   "source": [
    "print(\"im stronger, im smarter\")"
   ]
  },
  {
   "cell_type": "markdown",
   "id": "3722a605",
   "metadata": {},
   "source": [
    "### decorators"
   ]
  },
  {
   "cell_type": "code",
   "execution_count": 2,
   "id": "71fbfe51",
   "metadata": {},
   "outputs": [],
   "source": [
    "def mi_decorador(func):\n",
    "    def envoltura():\n",
    "        print(\"Antes de la llamada a la función.\")\n",
    "        func()\n",
    "        print(\"Después de la llamada a la función.\")\n",
    "    return envoltura\n",
    "\n",
    "@mi_decorador\n",
    "def saludo():\n",
    "    print(\"i dont make mistakes\")"
   ]
  },
  {
   "cell_type": "code",
   "execution_count": 3,
   "id": "8d3b6f27",
   "metadata": {},
   "outputs": [
    {
     "name": "stdout",
     "output_type": "stream",
     "text": [
      "Antes de la llamada a la función.\n",
      "i dont make mistakes\n",
      "Después de la llamada a la función.\n"
     ]
    }
   ],
   "source": [
    "saludo()"
   ]
  },
  {
   "cell_type": "markdown",
   "id": "9b78d256",
   "metadata": {},
   "source": [
    "### getters and setters"
   ]
  },
  {
   "cell_type": "code",
   "execution_count": 4,
   "id": "ce26b9bb",
   "metadata": {},
   "outputs": [],
   "source": [
    "class Persona:\n",
    "    def __init__(self, name, age):\n",
    "        self._name = name\n",
    "        self._age = age\n",
    "\n",
    "    # getter\n",
    "    @property\n",
    "    def age(self):\n",
    "        return self._age\n",
    "\n",
    "    # setter\n",
    "    @age.setter\n",
    "    def age(self, value):\n",
    "        if value > 0:\n",
    "            self._age = value\n",
    "        else:\n",
    "            raise ValueError(\"[!] Age cant be 0 or negative\")\n"
   ]
  },
  {
   "cell_type": "code",
   "execution_count": 5,
   "id": "fccb1412",
   "metadata": {},
   "outputs": [
    {
     "name": "stdout",
     "output_type": "stream",
     "text": [
      "30\n"
     ]
    }
   ],
   "source": [
    "persona1 = Persona(\"Edibauer\", 30)\n",
    "print(persona1.age)  # getter"
   ]
  },
  {
   "cell_type": "code",
   "execution_count": 6,
   "id": "6deb0b0c",
   "metadata": {},
   "outputs": [],
   "source": [
    "persona1.age = 35  # setter"
   ]
  },
  {
   "cell_type": "code",
   "execution_count": 7,
   "id": "8462ce29",
   "metadata": {},
   "outputs": [
    {
     "data": {
      "text/plain": [
       "35"
      ]
     },
     "execution_count": 7,
     "metadata": {},
     "output_type": "execute_result"
    }
   ],
   "source": [
    "persona1.age"
   ]
  },
  {
   "cell_type": "markdown",
   "id": "bda83b65",
   "metadata": {},
   "source": [
    "### *args"
   ]
  },
  {
   "cell_type": "code",
   "execution_count": 8,
   "id": "4670e213",
   "metadata": {},
   "outputs": [],
   "source": [
    "def suma(*args):\n",
    "    return sum(args) # tuple\n"
   ]
  },
  {
   "cell_type": "code",
   "execution_count": 9,
   "id": "f98e864f",
   "metadata": {},
   "outputs": [
    {
     "data": {
      "text/plain": [
       "18"
      ]
     },
     "execution_count": 9,
     "metadata": {},
     "output_type": "execute_result"
    }
   ],
   "source": [
    "suma(3,6,9)"
   ]
  },
  {
   "cell_type": "markdown",
   "id": "71b300a4",
   "metadata": {},
   "source": [
    "### kwargs"
   ]
  },
  {
   "cell_type": "code",
   "execution_count": 10,
   "id": "9be70b8d",
   "metadata": {},
   "outputs": [],
   "source": [
    "def presentacion(**kwargs):\n",
    "    for key, value in kwargs.items():\n",
    "        print(f\"{key}: {value}\")"
   ]
  },
  {
   "cell_type": "code",
   "execution_count": 11,
   "id": "648303e2",
   "metadata": {},
   "outputs": [
    {
     "name": "stdout",
     "output_type": "stream",
     "text": [
      "name: Edibauer\n",
      "age: 35\n",
      "city: Berlin\n"
     ]
    }
   ],
   "source": [
    "presentacion(name=\"Edibauer\", age=35, city=\"Berlin\")"
   ]
  }
 ],
 "metadata": {
  "kernelspec": {
   "display_name": "Python 3",
   "language": "python",
   "name": "python3"
  },
  "language_info": {
   "codemirror_mode": {
    "name": "ipython",
    "version": 3
   },
   "file_extension": ".py",
   "mimetype": "text/x-python",
   "name": "python",
   "nbconvert_exporter": "python",
   "pygments_lexer": "ipython3",
   "version": "3.11.2"
  }
 },
 "nbformat": 4,
 "nbformat_minor": 5
}
