{
 "cells": [
  {
   "cell_type": "code",
   "execution_count": 1,
   "id": "fade8d02",
   "metadata": {},
   "outputs": [
    {
     "name": "stdout",
     "output_type": "stream",
     "text": [
      "im not just like the rest of you\n"
     ]
    }
   ],
   "source": [
    "print(\"im not just like the rest of you\")"
   ]
  },
  {
   "cell_type": "code",
   "execution_count": 2,
   "id": "0fbe56ec",
   "metadata": {},
   "outputs": [],
   "source": [
    "class Calculadora:\n",
    "    @staticmethod\n",
    "    def suma(a, b):\n",
    "        return a + b\n",
    "    \n",
    "    def resta(a, b):\n",
    "        return a - b\n"
   ]
  },
  {
   "cell_type": "code",
   "execution_count": 4,
   "id": "72498aab",
   "metadata": {},
   "outputs": [
    {
     "data": {
      "text/plain": [
       "9"
      ]
     },
     "execution_count": 4,
     "metadata": {},
     "output_type": "execute_result"
    }
   ],
   "source": [
    "Calculadora.suma(3, 6)"
   ]
  },
  {
   "cell_type": "code",
   "execution_count": 5,
   "id": "ac3edf76",
   "metadata": {},
   "outputs": [
    {
     "data": {
      "text/plain": [
       "3"
      ]
     },
     "execution_count": 5,
     "metadata": {},
     "output_type": "execute_result"
    }
   ],
   "source": [
    "Calculadora.resta(9, 6)"
   ]
  },
  {
   "cell_type": "code",
   "execution_count": null,
   "id": "31e8592c",
   "metadata": {},
   "outputs": [],
   "source": []
  }
 ],
 "metadata": {
  "kernelspec": {
   "display_name": "Python 3",
   "language": "python",
   "name": "python3"
  },
  "language_info": {
   "codemirror_mode": {
    "name": "ipython",
    "version": 3
   },
   "file_extension": ".py",
   "mimetype": "text/x-python",
   "name": "python",
   "nbconvert_exporter": "python",
   "pygments_lexer": "ipython3",
   "version": "3.11.2"
  }
 },
 "nbformat": 4,
 "nbformat_minor": 5
}
