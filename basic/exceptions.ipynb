{
 "cells": [
  {
   "cell_type": "code",
   "execution_count": 5,
   "id": "e8c355fe",
   "metadata": {},
   "outputs": [],
   "source": [
    "from pwn import log"
   ]
  },
  {
   "cell_type": "code",
   "execution_count": 1,
   "id": "9c632fc9",
   "metadata": {},
   "outputs": [
    {
     "name": "stdout",
     "output_type": "stream",
     "text": [
      "i dont make mistakes\n"
     ]
    }
   ],
   "source": [
    "print(\"i dont make mistakes\")"
   ]
  },
  {
   "cell_type": "code",
   "execution_count": 2,
   "id": "f7fe9492",
   "metadata": {},
   "outputs": [
    {
     "name": "stdout",
     "output_type": "stream",
     "text": [
      "cant divide between 0\n"
     ]
    }
   ],
   "source": [
    "try:\n",
    "    num = 5/0\n",
    "except:\n",
    "    print(\"cant divide between 0\")"
   ]
  },
  {
   "cell_type": "code",
   "execution_count": 3,
   "id": "663337b5",
   "metadata": {},
   "outputs": [
    {
     "name": "stdout",
     "output_type": "stream",
     "text": [
      "cant divide between 0\n"
     ]
    }
   ],
   "source": [
    "try:\n",
    "    num = 5/0\n",
    "except ZeroDivisionError:\n",
    "    print(\"cant divide between 0\")"
   ]
  },
  {
   "cell_type": "code",
   "execution_count": 7,
   "id": "0ca751bc",
   "metadata": {},
   "outputs": [
    {
     "name": "stdout",
     "output_type": "stream",
     "text": [
      "[-] Maths on ly can be between numbers, not strings\n"
     ]
    }
   ],
   "source": [
    "try:\n",
    "    num = \"hello\"/0\n",
    "except ZeroDivisionError:\n",
    "    print(\"cant divide between 0\")\n",
    "\n",
    "except TypeError:\n",
    "    # print(\"cant divide between string\")\n",
    "    log.failure(\"Maths on ly can be between numbers, not strings\")"
   ]
  },
  {
   "cell_type": "code",
   "execution_count": 9,
   "id": "6f4589a2",
   "metadata": {},
   "outputs": [
    {
     "name": "stdout",
     "output_type": "stream",
     "text": [
      "ans is: 3\n",
      "always execute\n"
     ]
    }
   ],
   "source": [
    "try:\n",
    "    num = 9/3\n",
    "except ZeroDivisionError:\n",
    "    print(\"cant divide between 0\")\n",
    "\n",
    "except TypeError:\n",
    "    # print(\"cant divide between string\")\n",
    "    log.failure(\"Maths on ly can be between numbers, not strings\")\n",
    "else:\n",
    "    print(\"ans is: %d\" % num)\n",
    "finally:\n",
    "    print(\"always execute\")"
   ]
  },
  {
   "cell_type": "code",
   "execution_count": 10,
   "id": "28fcbd5e",
   "metadata": {},
   "outputs": [
    {
     "ename": "Exception",
     "evalue": "[!] We can use negative numbers",
     "output_type": "error",
     "traceback": [
      "\u001b[0;31m---------------------------------------------------------------------------\u001b[0m",
      "\u001b[0;31mException\u001b[0m                                 Traceback (most recent call last)",
      "Cell \u001b[0;32mIn [10], line 3\u001b[0m\n\u001b[1;32m      1\u001b[0m x \u001b[38;5;241m=\u001b[39m \u001b[38;5;241m-\u001b[39m\u001b[38;5;241m5\u001b[39m\n\u001b[1;32m      2\u001b[0m \u001b[38;5;28;01mif\u001b[39;00m x \u001b[38;5;241m<\u001b[39m \u001b[38;5;241m0\u001b[39m:\n\u001b[0;32m----> 3\u001b[0m     \u001b[38;5;28;01mraise\u001b[39;00m \u001b[38;5;167;01mException\u001b[39;00m(\u001b[38;5;124m\"\u001b[39m\u001b[38;5;124m[!] We can use negative numbers\u001b[39m\u001b[38;5;124m\"\u001b[39m)\n",
      "\u001b[0;31mException\u001b[0m: [!] We can use negative numbers"
     ]
    }
   ],
   "source": [
    "x = -5\n",
    "if x < 0:\n",
    "    raise Exception(\"[!] We can use negative numbers\")"
   ]
  },
  {
   "cell_type": "code",
   "execution_count": null,
   "id": "56999abf",
   "metadata": {},
   "outputs": [],
   "source": []
  }
 ],
 "metadata": {
  "kernelspec": {
   "display_name": "Python 3",
   "language": "python",
   "name": "python3"
  },
  "language_info": {
   "codemirror_mode": {
    "name": "ipython",
    "version": 3
   },
   "file_extension": ".py",
   "mimetype": "text/x-python",
   "name": "python",
   "nbconvert_exporter": "python",
   "pygments_lexer": "ipython3",
   "version": "3.11.2"
  }
 },
 "nbformat": 4,
 "nbformat_minor": 5
}
