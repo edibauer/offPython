{
 "cells": [
  {
   "cell_type": "code",
   "execution_count": 1,
   "id": "0eb6bfb4",
   "metadata": {},
   "outputs": [
    {
     "name": "stdout",
     "output_type": "stream",
     "text": [
      "i dont make mistakes\n"
     ]
    }
   ],
   "source": [
    "print(\"i dont make mistakes\")"
   ]
  },
  {
   "cell_type": "markdown",
   "id": "80b2e17f",
   "metadata": {},
   "source": [
    "### functions"
   ]
  },
  {
   "cell_type": "code",
   "execution_count": 3,
   "id": "7f96d92c",
   "metadata": {},
   "outputs": [],
   "source": [
    "def greet():\n",
    "    print(\"i dont make mistakes\")"
   ]
  },
  {
   "cell_type": "code",
   "execution_count": 4,
   "id": "398a52a3",
   "metadata": {},
   "outputs": [
    {
     "name": "stdout",
     "output_type": "stream",
     "text": [
      "i dont make mistakes\n"
     ]
    }
   ],
   "source": [
    "greet()"
   ]
  },
  {
   "cell_type": "code",
   "execution_count": 5,
   "id": "98cb8403",
   "metadata": {},
   "outputs": [],
   "source": [
    "def greet2(name):\n",
    "    print(\"Hello %s\" % name)"
   ]
  },
  {
   "cell_type": "code",
   "execution_count": 6,
   "id": "7de0980a",
   "metadata": {},
   "outputs": [
    {
     "name": "stdout",
     "output_type": "stream",
     "text": [
      "Hello sapiol\n"
     ]
    }
   ],
   "source": [
    "greet2(\"sapiol\")"
   ]
  },
  {
   "cell_type": "code",
   "execution_count": 7,
   "id": "1257dc73",
   "metadata": {},
   "outputs": [],
   "source": [
    "def sum(x,y):\n",
    "    return x+y"
   ]
  },
  {
   "cell_type": "code",
   "execution_count": 9,
   "id": "62bb5336",
   "metadata": {},
   "outputs": [
    {
     "name": "stdout",
     "output_type": "stream",
     "text": [
      "Add is 9\n"
     ]
    }
   ],
   "source": [
    "ans = sum(3,6)\n",
    "print(\"Add is %d\" % ans)"
   ]
  }
 ],
 "metadata": {
  "kernelspec": {
   "display_name": "Python 3",
   "language": "python",
   "name": "python3"
  },
  "language_info": {
   "codemirror_mode": {
    "name": "ipython",
    "version": 3
   },
   "file_extension": ".py",
   "mimetype": "text/x-python",
   "name": "python",
   "nbconvert_exporter": "python",
   "pygments_lexer": "ipython3",
   "version": "3.11.2"
  }
 },
 "nbformat": 4,
 "nbformat_minor": 5
}
