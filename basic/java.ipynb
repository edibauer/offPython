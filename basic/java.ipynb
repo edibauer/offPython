{
 "cells": [
  {
   "cell_type": "code",
   "execution_count": null,
   "id": "8c53d6e1",
   "metadata": {},
   "outputs": [
    {
     "name": "stdout",
     "output_type": "stream",
     "text": [
      "i dont make mistakes\n"
     ]
    }
   ],
   "source": [
    "System.out.println(\"i dont make mistakes\");"
   ]
  }
 ],
 "metadata": {
  "kernelspec": {
   "display_name": "java (JJava/j!)",
   "language": "java",
   "name": "jbang-jjava"
  },
  "language_info": {
   "codemirror_mode": "java",
   "file_extension": ".jshell",
   "mimetype": "text/x-java-source",
   "name": "java",
   "pygments_lexer": "java",
   "version": "17.0.16+8-Debian-1deb12u1"
  }
 },
 "nbformat": 4,
 "nbformat_minor": 5
}
