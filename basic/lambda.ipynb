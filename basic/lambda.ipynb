{
 "cells": [
  {
   "cell_type": "code",
   "execution_count": 1,
   "id": "ef085b35",
   "metadata": {},
   "outputs": [
    {
     "name": "stdout",
     "output_type": "stream",
     "text": [
      "i dont makemistakes\n"
     ]
    }
   ],
   "source": [
    "print(\"i dont makemistakes\")"
   ]
  },
  {
   "cell_type": "markdown",
   "id": "f587f877",
   "metadata": {},
   "source": [
    "### lambda"
   ]
  },
  {
   "cell_type": "code",
   "execution_count": 4,
   "id": "e9a85461",
   "metadata": {},
   "outputs": [],
   "source": [
    "my_function = lambda: \"i dont make mistakes\""
   ]
  },
  {
   "cell_type": "code",
   "execution_count": 5,
   "id": "6fe4a40f",
   "metadata": {},
   "outputs": [
    {
     "data": {
      "text/plain": [
       "'i dont make mistakes'"
      ]
     },
     "execution_count": 5,
     "metadata": {},
     "output_type": "execute_result"
    }
   ],
   "source": [
    "my_function()"
   ]
  },
  {
   "cell_type": "code",
   "execution_count": 6,
   "id": "f91781aa",
   "metadata": {},
   "outputs": [],
   "source": [
    "my_square = lambda x: x **2  "
   ]
  },
  {
   "cell_type": "code",
   "execution_count": 7,
   "id": "b5918a48",
   "metadata": {},
   "outputs": [
    {
     "data": {
      "text/plain": [
       "9"
      ]
     },
     "execution_count": 7,
     "metadata": {},
     "output_type": "execute_result"
    }
   ],
   "source": [
    "my_square(3)"
   ]
  },
  {
   "cell_type": "code",
   "execution_count": 8,
   "id": "8bd92ffc",
   "metadata": {},
   "outputs": [],
   "source": [
    "my_sum = lambda x,y: x+y"
   ]
  },
  {
   "cell_type": "code",
   "execution_count": 9,
   "id": "7c68f246",
   "metadata": {},
   "outputs": [
    {
     "data": {
      "text/plain": [
       "9"
      ]
     },
     "execution_count": 9,
     "metadata": {},
     "output_type": "execute_result"
    }
   ],
   "source": [
    "my_sum(3,6)"
   ]
  },
  {
   "cell_type": "markdown",
   "id": "456ada6d",
   "metadata": {},
   "source": [
    "### map"
   ]
  },
  {
   "cell_type": "code",
   "execution_count": null,
   "id": "b1b71044",
   "metadata": {},
   "outputs": [],
   "source": [
    "# map(function, iterator) - return map\n",
    "\n",
    "numbers = [1,2,3,4,5]\n",
    "squares = map(lambda x: x**2, numbers) # list(map(lambda x: x**2, numbers))\n"
   ]
  },
  {
   "cell_type": "code",
   "execution_count": 14,
   "id": "b2c7cf60",
   "metadata": {},
   "outputs": [
    {
     "name": "stdout",
     "output_type": "stream",
     "text": [
      "<map object at 0x7feb3170f880>\n",
      "<class 'map'>\n"
     ]
    }
   ],
   "source": [
    "print(squares)\n",
    "print(type(squares))"
   ]
  },
  {
   "cell_type": "code",
   "execution_count": 15,
   "id": "8507abbc",
   "metadata": {},
   "outputs": [
    {
     "name": "stdout",
     "output_type": "stream",
     "text": [
      "1\n",
      "4\n",
      "9\n",
      "16\n",
      "25\n"
     ]
    }
   ],
   "source": [
    "for i in squares:\n",
    "    print(i)"
   ]
  },
  {
   "cell_type": "code",
   "execution_count": 16,
   "id": "87495bdd",
   "metadata": {},
   "outputs": [],
   "source": [
    "numbers2=[1,2,3,4,5]\n",
    "filters= list(filter(lambda x: x % 2 != 0, numbers2))"
   ]
  },
  {
   "cell_type": "code",
   "execution_count": 17,
   "id": "282a9fba",
   "metadata": {},
   "outputs": [
    {
     "data": {
      "text/plain": [
       "[1, 3, 5]"
      ]
     },
     "execution_count": 17,
     "metadata": {},
     "output_type": "execute_result"
    }
   ],
   "source": [
    "filters"
   ]
  }
 ],
 "metadata": {
  "kernelspec": {
   "display_name": "Python 3",
   "language": "python",
   "name": "python3"
  },
  "language_info": {
   "codemirror_mode": {
    "name": "ipython",
    "version": 3
   },
   "file_extension": ".py",
   "mimetype": "text/x-python",
   "name": "python",
   "nbconvert_exporter": "python",
   "pygments_lexer": "ipython3",
   "version": "3.11.2"
  }
 },
 "nbformat": 4,
 "nbformat_minor": 5
}
