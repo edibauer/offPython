{
 "cells": [
  {
   "cell_type": "markdown",
   "metadata": {},
   "source": [
    "# C++ Kernel Test\n",
    "This notebook demonstrates that the C++ kernel is working properly."
   ]
  },
  {
   "cell_type": "code",
   "execution_count": null,
   "metadata": {},
   "outputs": [],
   "source": [
    "#include <iostream>\n#include <string>\n\nstd::cout << \"Hello from C++ in Jupyter!\" << std::endl;"
   ]
  },
  {
   "cell_type": "code",
   "execution_count": null,
   "metadata": {},
   "outputs": [],
   "source": [
    "// Test variables and functions\nint x = 42;\ndouble pi = 3.14159;\n\nstd::cout << \"x = \" << x << \", pi = \" << pi << std::endl;"
   ]
  },
  {
   "cell_type": "code",
   "execution_count": null,
   "metadata": {},
   "outputs": [],
   "source": [
    "// Define a simple function\nint add(int a, int b) {\n    return a + b;\n}\n\nint result = add(10, 20);\nstd::cout << \"10 + 20 = \" << result << std::endl;"
   ]
  },
  {
   "cell_type": "code",
   "execution_count": null,
   "metadata": {},
   "outputs": [],
   "source": [
    "// Test with STL containers\n#include <vector>\n#include <algorithm>\n\nstd::vector<int> numbers = {5, 2, 8, 1, 9};\nstd::sort(numbers.begin(), numbers.end());\n\nstd::cout << \"Sorted numbers: \";\nfor (const auto& num : numbers) {\n    std::cout << num << \" \";\n}\nstd::cout << std::endl;"
   ]
  }
 ],
 "metadata": {
  "kernelspec": {
   "display_name": "C++17",
   "language": "C++17",
   "name": "xcpp17"
  },
  "language_info": {
   "codemirror_mode": "text/x-c++src",
   "file_extension": ".cpp",
   "mimetype": "text/x-c++src",
   "name": "C++17",
   "version": "17"
  }
 },
 "nbformat": 4,
 "nbformat_minor": 4
}