{
 "cells": [
  {
   "cell_type": "code",
   "execution_count": 1,
   "id": "6e528acb",
   "metadata": {},
   "outputs": [
    {
     "name": "stdout",
     "output_type": "stream",
     "text": [
      "i dont make mistakes\n"
     ]
    }
   ],
   "source": [
    "print(\"i dont make mistakes\")"
   ]
  },
  {
   "cell_type": "markdown",
   "id": "64374539",
   "metadata": {},
   "source": [
    "# Strings"
   ]
  },
  {
   "cell_type": "code",
   "execution_count": 5,
   "id": "aa7a797c",
   "metadata": {},
   "outputs": [
    {
     "name": "stdout",
     "output_type": "stream",
     "text": [
      "192.168.1.9\n",
      "<class 'str'>\n"
     ]
    }
   ],
   "source": [
    "ip_address = \"192.168.1.9\"\n",
    "print(ip_address)\n",
    "print(type(ip_address))"
   ]
  },
  {
   "cell_type": "code",
   "execution_count": 6,
   "id": "76ddbd75",
   "metadata": {},
   "outputs": [
    {
     "name": "stdout",
     "output_type": "stream",
     "text": [
      "80\n",
      "<class 'int'>\n"
     ]
    }
   ],
   "source": [
    "port = 80\n",
    "print(port)\n",
    "print(type(port))"
   ]
  },
  {
   "cell_type": "code",
   "execution_count": 7,
   "id": "c841813c",
   "metadata": {},
   "outputs": [
    {
     "name": "stdout",
     "output_type": "stream",
     "text": [
      "3.3\n",
      "<class 'float'>\n"
     ]
    }
   ],
   "source": [
    "number = 3.3 \n",
    "print(number)\n",
    "print(type(number))"
   ]
  },
  {
   "cell_type": "markdown",
   "id": "2f7c1942",
   "metadata": {},
   "source": [
    "### type casting"
   ]
  },
  {
   "cell_type": "code",
   "execution_count": 8,
   "id": "645b00c5",
   "metadata": {},
   "outputs": [
    {
     "name": "stdout",
     "output_type": "stream",
     "text": [
      "4.0\n"
     ]
    }
   ],
   "source": [
    "# type casting\n",
    "number = float(4)\n",
    "print(number)"
   ]
  },
  {
   "cell_type": "code",
   "execution_count": 9,
   "id": "d4c39df2",
   "metadata": {},
   "outputs": [
    {
     "name": "stdout",
     "output_type": "stream",
     "text": [
      "4\n"
     ]
    }
   ],
   "source": [
    "number = str(4)\n",
    "print(number)"
   ]
  },
  {
   "cell_type": "code",
   "execution_count": 10,
   "id": "590ed047",
   "metadata": {},
   "outputs": [
    {
     "name": "stdout",
     "output_type": "stream",
     "text": [
      "4\n"
     ]
    }
   ],
   "source": [
    "number = int(4.0)\n",
    "print(number)"
   ]
  },
  {
   "cell_type": "markdown",
   "id": "08c47b23",
   "metadata": {},
   "source": [
    "### list"
   ]
  },
  {
   "cell_type": "code",
   "execution_count": 11,
   "id": "c53c66b4",
   "metadata": {},
   "outputs": [],
   "source": [
    "my_ports = []\n",
    "my_ports.append(22)\n",
    "my_ports.append(80)\n",
    "my_ports.append(443)"
   ]
  },
  {
   "cell_type": "code",
   "execution_count": 13,
   "id": "7be76ef3",
   "metadata": {},
   "outputs": [
    {
     "name": "stdout",
     "output_type": "stream",
     "text": [
      "22\n",
      "80\n",
      "443\n"
     ]
    }
   ],
   "source": [
    "print(my_ports[0])\n",
    "print(my_ports[1])\n",
    "print(my_ports[2])"
   ]
  },
  {
   "cell_type": "code",
   "execution_count": null,
   "id": "7bdfd4fe",
   "metadata": {},
   "outputs": [
    {
     "name": "stdout",
     "output_type": "stream",
     "text": [
      "Ports 22\n",
      "Ports 80\n",
      "Ports 443\n",
      "The list ahs 3 elements\n"
     ]
    }
   ],
   "source": [
    "for port in my_ports:\n",
    "    # print(f\"Ports: {port}\")\n",
    "    print(\"Ports %d\" % port)\n",
    "\n",
    "print(f\"The list has {len(my_ports)} elements\")\n",
    "\n",
    "# my_ports = sorted(my_ports - to sort\n",
    "# del my_ports[0] - to delete by index\n"
   ]
  },
  {
   "cell_type": "markdown",
   "id": "9e003fe1",
   "metadata": {},
   "source": [
    "### List manipulation"
   ]
  },
  {
   "cell_type": "code",
   "execution_count": 19,
   "id": "72b74adf",
   "metadata": {},
   "outputs": [],
   "source": [
    "another_list = [1,2,3,4,5,6,7,8,9]"
   ]
  },
  {
   "cell_type": "code",
   "execution_count": 20,
   "id": "5d831393",
   "metadata": {},
   "outputs": [
    {
     "name": "stdout",
     "output_type": "stream",
     "text": [
      "[1, 2]\n"
     ]
    }
   ],
   "source": [
    "print(another_list[:2])"
   ]
  },
  {
   "cell_type": "code",
   "execution_count": 21,
   "id": "7213255b",
   "metadata": {},
   "outputs": [
    {
     "name": "stdout",
     "output_type": "stream",
     "text": [
      "[1, 2, 3, 4, 5, 6]\n"
     ]
    }
   ],
   "source": [
    "print(another_list[:6])"
   ]
  },
  {
   "cell_type": "code",
   "execution_count": 22,
   "id": "caab4cca",
   "metadata": {},
   "outputs": [
    {
     "name": "stdout",
     "output_type": "stream",
     "text": [
      "[1, 2, 3]\n"
     ]
    }
   ],
   "source": [
    "print(another_list[0:3])"
   ]
  },
  {
   "cell_type": "code",
   "execution_count": 23,
   "id": "50a6b112",
   "metadata": {},
   "outputs": [
    {
     "name": "stdout",
     "output_type": "stream",
     "text": [
      "[3, 4]\n"
     ]
    }
   ],
   "source": [
    "print(another_list[2:4])"
   ]
  },
  {
   "cell_type": "code",
   "execution_count": 24,
   "id": "c16a568f",
   "metadata": {},
   "outputs": [
    {
     "name": "stdout",
     "output_type": "stream",
     "text": [
      "[3, 4, 5, 6, 7, 8, 9]\n"
     ]
    }
   ],
   "source": [
    "print(another_list[2:])"
   ]
  },
  {
   "cell_type": "code",
   "execution_count": 25,
   "id": "0ea7a2d4",
   "metadata": {},
   "outputs": [
    {
     "name": "stdout",
     "output_type": "stream",
     "text": [
      "[6, 7, 8, 9]\n"
     ]
    }
   ],
   "source": [
    "print(another_list[5:])"
   ]
  },
  {
   "cell_type": "code",
   "execution_count": 26,
   "id": "98806e3f",
   "metadata": {},
   "outputs": [
    {
     "name": "stdout",
     "output_type": "stream",
     "text": [
      "9\n"
     ]
    }
   ],
   "source": [
    "print(another_list[-1])"
   ]
  },
  {
   "cell_type": "code",
   "execution_count": 28,
   "id": "c26269d9",
   "metadata": {},
   "outputs": [
    {
     "name": "stdout",
     "output_type": "stream",
     "text": [
      "[8, 9]\n"
     ]
    }
   ],
   "source": [
    "print(another_list[-2:])"
   ]
  },
  {
   "cell_type": "code",
   "execution_count": 29,
   "id": "87d8eb95",
   "metadata": {},
   "outputs": [
    {
     "name": "stdout",
     "output_type": "stream",
     "text": [
      "[6, 7, 8, 9]\n"
     ]
    }
   ],
   "source": [
    "print(another_list[-4:])"
   ]
  },
  {
   "cell_type": "code",
   "execution_count": 30,
   "id": "35470ebc",
   "metadata": {},
   "outputs": [
    {
     "name": "stdout",
     "output_type": "stream",
     "text": [
      "[1, 2, 3, 4, 5, 6]\n"
     ]
    }
   ],
   "source": [
    "print(another_list[:-3])"
   ]
  },
  {
   "cell_type": "markdown",
   "id": "c503ecf3",
   "metadata": {},
   "source": [
    "### Remove last element"
   ]
  },
  {
   "cell_type": "code",
   "execution_count": 31,
   "id": "9965fd7a",
   "metadata": {},
   "outputs": [
    {
     "data": {
      "text/plain": [
       "9"
      ]
     },
     "execution_count": 31,
     "metadata": {},
     "output_type": "execute_result"
    }
   ],
   "source": [
    "another_list.pop()"
   ]
  },
  {
   "cell_type": "code",
   "execution_count": 32,
   "id": "f6ef4b58",
   "metadata": {},
   "outputs": [
    {
     "data": {
      "text/plain": [
       "[1, 2, 3, 4, 5, 6, 7, 8]"
      ]
     },
     "execution_count": 32,
     "metadata": {},
     "output_type": "execute_result"
    }
   ],
   "source": [
    "another_list"
   ]
  },
  {
   "cell_type": "markdown",
   "id": "70e869f9",
   "metadata": {},
   "source": [
    "### Enumerate"
   ]
  },
  {
   "cell_type": "code",
   "execution_count": 35,
   "id": "83e180a5",
   "metadata": {},
   "outputs": [
    {
     "name": "stdout",
     "output_type": "stream",
     "text": [
      "Index: 0, Value: 1\n",
      "Index: 1, Value: 2\n",
      "Index: 2, Value: 3\n",
      "Index: 3, Value: 4\n",
      "Index: 4, Value: 5\n",
      "Index: 5, Value: 6\n",
      "Index: 6, Value: 7\n",
      "Index: 7, Value: 8\n"
     ]
    }
   ],
   "source": [
    "for x,y in enumerate(another_list): # indice, valor\n",
    "    # print(x)\n",
    "    # print(y)\n",
    "    print(f\"Index: {x}, Value: {y}\")"
   ]
  },
  {
   "cell_type": "markdown",
   "id": "2b70f7cb",
   "metadata": {},
   "source": [
    "### Save into another list"
   ]
  },
  {
   "cell_type": "code",
   "execution_count": 38,
   "id": "0d6f0b1d",
   "metadata": {},
   "outputs": [
    {
     "data": {
      "text/plain": [
       "[1, 5, 8, 9]"
      ]
     },
     "execution_count": 38,
     "metadata": {},
     "output_type": "execute_result"
    }
   ],
   "source": [
    "mi_lista = [1,3,9,8,6,3,7,9,3,3,6,5,2,4]\n",
    "indexes = [x for x,y in enumerate(mi_lista) if y == 3]\n",
    "indexes"
   ]
  },
  {
   "cell_type": "markdown",
   "id": "84a04343",
   "metadata": {},
   "source": [
    "### counter"
   ]
  },
  {
   "cell_type": "code",
   "execution_count": 39,
   "id": "9f9c408d",
   "metadata": {},
   "outputs": [
    {
     "data": {
      "text/plain": [
       "4"
      ]
     },
     "execution_count": 39,
     "metadata": {},
     "output_type": "execute_result"
    }
   ],
   "source": [
    "mi_lista.count(3)"
   ]
  },
  {
   "cell_type": "markdown",
   "id": "5eb99fb4",
   "metadata": {},
   "source": [
    "### Set"
   ]
  },
  {
   "cell_type": "code",
   "execution_count": 41,
   "id": "7e0c2396",
   "metadata": {},
   "outputs": [
    {
     "data": {
      "text/plain": [
       "{1, 2, 3, 4, 5, 6, 7, 8, 9}"
      ]
     },
     "execution_count": 41,
     "metadata": {},
     "output_type": "execute_result"
    }
   ],
   "source": [
    "# sets remove duplicates\n",
    "set_lista = set(mi_lista)\n",
    "set_lista"
   ]
  },
  {
   "cell_type": "code",
   "execution_count": 43,
   "id": "84c6a0a4",
   "metadata": {},
   "outputs": [
    {
     "name": "stdout",
     "output_type": "stream",
     "text": [
      "<class 'list'>\n"
     ]
    }
   ],
   "source": [
    "new_lista = list(set(mi_lista))\n",
    "new_lista\n",
    "print(type(new_lista))"
   ]
  },
  {
   "cell_type": "code",
   "execution_count": null,
   "id": "ba235682",
   "metadata": {},
   "outputs": [],
   "source": []
  }
 ],
 "metadata": {
  "kernelspec": {
   "display_name": "Python 3",
   "language": "python",
   "name": "python3"
  },
  "language_info": {
   "codemirror_mode": {
    "name": "ipython",
    "version": 3
   },
   "file_extension": ".py",
   "mimetype": "text/x-python",
   "name": "python",
   "nbconvert_exporter": "python",
   "pygments_lexer": "ipython3",
   "version": "3.11.2"
  }
 },
 "nbformat": 4,
 "nbformat_minor": 5
}
