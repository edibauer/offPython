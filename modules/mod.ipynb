{
 "cells": [
  {
   "cell_type": "code",
   "execution_count": 1,
   "id": "ca87efbb",
   "metadata": {},
   "outputs": [
    {
     "name": "stdout",
     "output_type": "stream",
     "text": [
      "i dont make mistakes\n"
     ]
    }
   ],
   "source": [
    "print(\"i dont make mistakes\")"
   ]
  },
  {
   "cell_type": "code",
   "execution_count": 2,
   "id": "df60867b",
   "metadata": {},
   "outputs": [],
   "source": [
    "from math_operations import add, resta, multiply, divide"
   ]
  },
  {
   "cell_type": "code",
   "execution_count": 3,
   "id": "4b44463c",
   "metadata": {},
   "outputs": [
    {
     "data": {
      "text/plain": [
       "3"
      ]
     },
     "execution_count": 3,
     "metadata": {},
     "output_type": "execute_result"
    }
   ],
   "source": [
    "resta(6, 3)"
   ]
  },
  {
   "cell_type": "code",
   "execution_count": null,
   "id": "3ba082dd",
   "metadata": {},
   "outputs": [],
   "source": []
  }
 ],
 "metadata": {
  "kernelspec": {
   "display_name": "Python 3",
   "language": "python",
   "name": "python3"
  },
  "language_info": {
   "codemirror_mode": {
    "name": "ipython",
    "version": 3
   },
   "file_extension": ".py",
   "mimetype": "text/x-python",
   "name": "python",
   "nbconvert_exporter": "python",
   "pygments_lexer": "ipython3",
   "version": "3.11.2"
  }
 },
 "nbformat": 4,
 "nbformat_minor": 5
}
