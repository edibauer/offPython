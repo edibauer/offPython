{
 "cells": [
  {
   "cell_type": "code",
   "execution_count": 1,
   "id": "f35def38",
   "metadata": {},
   "outputs": [
    {
     "name": "stdout",
     "output_type": "stream",
     "text": [
      "i dont make mistakes\n"
     ]
    }
   ],
   "source": [
    "print(\"i dont make mistakes\")"
   ]
  },
  {
   "cell_type": "code",
   "execution_count": 6,
   "id": "44eb8d88",
   "metadata": {},
   "outputs": [],
   "source": [
    "# cd..\n",
    "# python3\n",
    "# from modules.courses import list_courses"
   ]
  },
  {
   "cell_type": "code",
   "execution_count": 7,
   "id": "08d83839",
   "metadata": {},
   "outputs": [],
   "source": [
    "# __init__.py\n",
    "# from .courses import courses"
   ]
  },
  {
   "cell_type": "code",
   "execution_count": 4,
   "id": "6659699a",
   "metadata": {},
   "outputs": [],
   "source": [
    "# cd ..\n",
    "# python3\n",
    "# from modules import list_courses"
   ]
  }
 ],
 "metadata": {
  "kernelspec": {
   "display_name": "Python 3",
   "language": "python",
   "name": "python3"
  },
  "language_info": {
   "codemirror_mode": {
    "name": "ipython",
    "version": 3
   },
   "file_extension": ".py",
   "mimetype": "text/x-python",
   "name": "python",
   "nbconvert_exporter": "python",
   "pygments_lexer": "ipython3",
   "version": "3.11.2"
  }
 },
 "nbformat": 4,
 "nbformat_minor": 5
}
