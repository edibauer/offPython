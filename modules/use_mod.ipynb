{
 "cells": [
  {
   "cell_type": "code",
   "execution_count": 1,
   "id": "d10e0a49",
   "metadata": {},
   "outputs": [
    {
     "name": "stdout",
     "output_type": "stream",
     "text": [
      "im better\n"
     ]
    }
   ],
   "source": [
    "print(\"im better\")"
   ]
  },
  {
   "cell_type": "code",
   "execution_count": 2,
   "id": "8a86885b",
   "metadata": {},
   "outputs": [],
   "source": [
    "import math_operations as mo"
   ]
  },
  {
   "cell_type": "code",
   "execution_count": 3,
   "id": "4f07fadf",
   "metadata": {},
   "outputs": [
    {
     "data": {
      "text/plain": [
       "6"
      ]
     },
     "execution_count": 3,
     "metadata": {},
     "output_type": "execute_result"
    }
   ],
   "source": [
    "mo.resta(9, 3)"
   ]
  },
  {
   "cell_type": "markdown",
   "id": "5fd161f9",
   "metadata": {},
   "source": [
    "### python library hijacking"
   ]
  },
  {
   "cell_type": "code",
   "execution_count": 9,
   "id": "62b22fb4",
   "metadata": {},
   "outputs": [],
   "source": [
    "import sys\n",
    "import os\n",
    "import hashlib"
   ]
  },
  {
   "cell_type": "code",
   "execution_count": 5,
   "id": "0ba3f148",
   "metadata": {},
   "outputs": [
    {
     "data": {
      "text/plain": [
       "['/usr/lib/python311.zip',\n",
       " '/usr/lib/python3.11',\n",
       " '/usr/lib/python3.11/lib-dynload',\n",
       " '',\n",
       " '/home/edibauer/.local/lib/python3.11/site-packages',\n",
       " '/usr/local/lib/python3.11/dist-packages',\n",
       " '/usr/lib/python3/dist-packages',\n",
       " '/usr/lib/python3.11/dist-packages']"
      ]
     },
     "execution_count": 5,
     "metadata": {},
     "output_type": "execute_result"
    }
   ],
   "source": [
    "sys.path"
   ]
  },
  {
   "cell_type": "code",
   "execution_count": 7,
   "id": "1d206847",
   "metadata": {},
   "outputs": [
    {
     "name": "stdout",
     "output_type": "stream",
     "text": [
      "edibauer\n"
     ]
    },
    {
     "data": {
      "text/plain": [
       "0"
      ]
     },
     "execution_count": 7,
     "metadata": {},
     "output_type": "execute_result"
    }
   ],
   "source": [
    "os.system(\"whoami\")"
   ]
  },
  {
   "cell_type": "code",
   "execution_count": 11,
   "id": "c118b59c",
   "metadata": {},
   "outputs": [
    {
     "data": {
      "text/plain": [
       "'4d186321c1a7f0f354b297e8914ab240'"
      ]
     },
     "execution_count": 11,
     "metadata": {},
     "output_type": "execute_result"
    }
   ],
   "source": [
    "cadena = b\"hola\" # bits format\n",
    "hashlib.md5(cadena).hexdigest()"
   ]
  }
 ],
 "metadata": {
  "kernelspec": {
   "display_name": "Python 3",
   "language": "python",
   "name": "python3"
  },
  "language_info": {
   "codemirror_mode": {
    "name": "ipython",
    "version": 3
   },
   "file_extension": ".py",
   "mimetype": "text/x-python",
   "name": "python",
   "nbconvert_exporter": "python",
   "pygments_lexer": "ipython3",
   "version": "3.11.2"
  }
 },
 "nbformat": 4,
 "nbformat_minor": 5
}
